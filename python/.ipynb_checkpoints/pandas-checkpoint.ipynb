{
 "cells": [
  {
   "cell_type": "markdown",
   "id": "91416673",
   "metadata": {},
   "source": [
    "# Working with Pandas\n",
    "\n",
    "- https://www.w3schools.com/python/pandas/default.asp"
   ]
  },
  {
   "cell_type": "code",
   "execution_count": 1,
   "id": "2638587e",
   "metadata": {},
   "outputs": [],
   "source": [
    "import numpy as np\n",
    "import pandas as pd"
   ]
  },
  {
   "cell_type": "markdown",
   "id": "857bab48",
   "metadata": {},
   "source": [
    "### pandas.Series\n",
    "\n",
    "A one-dimensional labeled array capable of holding any data type (integers, strings, floating point numbers, Python objects, etc.). The axis labels are collectively referred to as the index. Series are create from (1)  a scalar and an index, (2) a dictionary or (3) a numpy.ndarray. An numpy.ndarray is a multidimensional, homogeneous array of fixed-size items (https://numpy.org/doc/stable/reference/generated/numpy.ndarray.html)."
   ]
  },
  {
   "cell_type": "code",
   "execution_count": 307,
   "id": "2f79e373",
   "metadata": {},
   "outputs": [
    {
     "data": {
      "text/plain": [
       "a    5.0\n",
       "b    5.0\n",
       "c    5.0\n",
       "dtype: float64"
      ]
     },
     "execution_count": 307,
     "metadata": {},
     "output_type": "execute_result"
    }
   ],
   "source": [
    "# From a scalar\n",
    "\n",
    "pd.Series(5.0, index=['a', 'b', 'c'])"
   ]
  },
  {
   "cell_type": "code",
   "execution_count": 60,
   "id": "0d578fa3",
   "metadata": {},
   "outputs": [
    {
     "data": {
      "text/plain": [
       "b    1.0\n",
       "a    0.0\n",
       "c    2.0\n",
       "dtype: float64"
      ]
     },
     "execution_count": 60,
     "metadata": {},
     "output_type": "execute_result"
    }
   ],
   "source": [
    "# From a dictionary\n",
    "\n",
    "pd.Series({\"b\": 1.0, \"a\": 0, \"c\": 2})"
   ]
  },
  {
   "cell_type": "code",
   "execution_count": 6,
   "id": "0183bf07",
   "metadata": {},
   "outputs": [
    {
     "data": {
      "text/plain": [
       "b    1.0\n",
       "c    2.0\n",
       "dtype: float64"
      ]
     },
     "execution_count": 6,
     "metadata": {},
     "output_type": "execute_result"
    }
   ],
   "source": [
    "# If an index is passed with the dictionary, the values in data corresponding to the labels in the index\n",
    "# will be pulled out.\n",
    "\n",
    "d = {\"a\": 0.0, \"b\": 1.0, \"c\": 2.0}\n",
    "pd.Series(d, index=[\"b\", \"c\"])"
   ]
  },
  {
   "cell_type": "code",
   "execution_count": 338,
   "id": "80201a90",
   "metadata": {},
   "outputs": [
    {
     "data": {
      "text/plain": [
       "a    0.938446\n",
       "b    0.662389\n",
       "c    0.304027\n",
       "dtype: float64"
      ]
     },
     "execution_count": 338,
     "metadata": {},
     "output_type": "execute_result"
    }
   ],
   "source": [
    "# From an ndarray, the array has to be one dimensional and the length of the index and data are the same,\n",
    "# without the index integers starting from 0 are used\n",
    "\n",
    "pd.Series(np.random.rand(3), index=[\"a\", \"b\", \"c\"])"
   ]
  },
  {
   "cell_type": "code",
   "execution_count": 337,
   "id": "262e45c4",
   "metadata": {},
   "outputs": [
    {
     "name": "stdout",
     "output_type": "stream",
     "text": [
      "a   -0.759163\n",
      "b    0.849162\n",
      "c   -0.431640\n",
      "dtype: float64\n",
      "-0.7591629371247881\n",
      "a   -0.759163\n",
      "b    0.849162\n",
      "dtype: float64\n"
     ]
    }
   ],
   "source": [
    "# Accessing the series, somewhat similar to numpy.ndarray instances\n",
    "\n",
    "series = pd.Series(np.random.randn(3), index=[\"a\", \"b\", \"c\"])\n",
    "print(series)\n",
    "print(series['a'])\n",
    "print(series['a':'b'])"
   ]
  },
  {
   "cell_type": "code",
   "execution_count": 343,
   "id": "fa64337a",
   "metadata": {},
   "outputs": [
    {
     "name": "stdout",
     "output_type": "stream",
     "text": [
      "a   -0.591038\n",
      "b   -1.942116\n",
      "c   -0.429191\n",
      "dtype: float64\n",
      "\n",
      "-0.5910380997993674 -0.42919099124566795 -0.42919099124566795\n",
      "\n",
      "c   -0.429191\n",
      "dtype: float64\n",
      "\n",
      "c   -0.429191\n",
      "b   -1.942116\n",
      "dtype: float64\n",
      "\n",
      "b   -1.942116\n",
      "a   -0.591038\n",
      "dtype: float64\n",
      "\n"
     ]
    }
   ],
   "source": [
    "s = pd.Series(np.random.randn(3), index=[\"a\", \"b\", \"c\"])\n",
    "print(s, end='\\n\\n')\n",
    "print(s.median(), s[2], s['c'], end='\\n\\n')\n",
    "print(s[s > s.median()], end='\\n\\n')\n",
    "print(s[[1, 0]], end='\\n\\n')\n",
    "print(s[['b', 'a']], end='\\n\\n')"
   ]
  },
  {
   "cell_type": "code",
   "execution_count": 339,
   "id": "a30aef29",
   "metadata": {},
   "outputs": [
    {
     "name": "stdout",
     "output_type": "stream",
     "text": [
      "a    0.235224\n",
      "b    0.079149\n",
      "c    0.685672\n",
      "d    2.627390\n",
      "e   -0.627217\n",
      "dtype: float64\n",
      "\n",
      "0.23522445825230298 2.627390015499585 2.627390015499585\n",
      "\n",
      "c    0.685672\n",
      "d    2.627390\n",
      "dtype: float64\n",
      "\n",
      "e   -0.627217\n",
      "d    2.627390\n",
      "b    0.079149\n",
      "dtype: float64\n",
      "\n",
      "e   -0.627217\n",
      "d    2.627390\n",
      "b    0.079149\n",
      "dtype: float64\n",
      "\n"
     ]
    }
   ],
   "source": [
    "s = pd.Series(np.random.randn(5), index=[\"a\", \"b\", \"c\", \"d\", \"e\"])\n",
    "print(s, end='\\n\\n')\n",
    "print(s.median(), s[3], s['d'], end='\\n\\n')\n",
    "print(s[s > s.median()], end='\\n\\n')\n",
    "print(s[[4, 3, 1]], end='\\n\\n')\n",
    "print(s[['e', 'd', 'b']], end='\\n\\n')"
   ]
  }
 ],
 "metadata": {
  "kernelspec": {
   "display_name": "Python 3 (ipykernel)",
   "language": "python",
   "name": "python3"
  },
  "language_info": {
   "codemirror_mode": {
    "name": "ipython",
    "version": 3
   },
   "file_extension": ".py",
   "mimetype": "text/x-python",
   "name": "python",
   "nbconvert_exporter": "python",
   "pygments_lexer": "ipython3",
   "version": "3.8.9"
  }
 },
 "nbformat": 4,
 "nbformat_minor": 5
}
